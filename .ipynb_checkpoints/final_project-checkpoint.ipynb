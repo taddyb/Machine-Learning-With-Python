{
 "cells": [
  {
   "cell_type": "markdown",
   "metadata": {},
   "source": [
    "# Final Project:\n",
    "\n",
    "To run this project:\n",
    "- `pipenv shell`\n",
    "- `pipev install`\n",
    "- `pipenv run jupyter notebook`\n",
    "\n",
    ":thumbs-up:\n"
   ]
  },
  {
   "cell_type": "markdown",
   "metadata": {},
   "source": [
    "#### Imports:\n",
    "\n",
    "- All of these packages are installed via the `Pipfile.lock` file\n"
   ]
  },
  {
   "cell_type": "code",
   "execution_count": 197,
   "metadata": {},
   "outputs": [],
   "source": [
    "import itertools\n",
    "import numpy as np\n",
    "import matplotlib.pyplot as plt\n",
    "from matplotlib.ticker import NullFormatter\n",
    "import pandas as pd\n",
    "import numpy as np\n",
    "import matplotlib.ticker as ticker\n",
    "from sklearn import preprocessing\n",
    "%matplotlib inline"
   ]
  },
  {
   "cell_type": "markdown",
   "metadata": {},
   "source": [
    "#### Understanding the Data:\n",
    "\n",
    "We're using the loan dataset\n",
    "\n",
    "###### Goal: clean the data, and apply different classification algorithm on the data to determine if a loan case will be paid off or not\n",
    "\n",
    "We will use the following:\n",
    "\n",
    "- K-Nearest Neighbor\n",
    "- Decision Tree\n",
    "- Support Vector Machine\n",
    "- Logistic Regression\n",
    "\n",
    "Using the following:\n",
    "\n",
    "- Jaccard index\n",
    "- F1-score\n",
    "- LogLoss\n",
    "\n",
    "###### Categories:\n",
    "\n",
    "- `loan_status`\n",
    "    - Categorical variable\n",
    "    - Either `PAIDOFF` or `COLLECTION`\n",
    "- `Principal`\n",
    "    - Numerical variable\n",
    "    - The principal on the loan\n",
    "- `terms` \n",
    "    - The length on the loan\n",
    "- `effective_date`\n",
    "    - The date the loan is effective\n",
    "- `due_date`\n",
    "    - Loan due date\n",
    "- `age`\n",
    "    - Age of the loan applicant\n",
    "- `education`\n",
    "    - Categorical variable\n",
    "    - The education level of the loan applicant \n",
    "- `Gender`\n",
    "    - Categorical Variable\n",
    "    - The gender of the person\n"
   ]
  },
  {
   "cell_type": "code",
   "execution_count": 221,
   "metadata": {},
   "outputs": [
    {
     "data": {
      "text/html": [
       "<div>\n",
       "<style scoped>\n",
       "    .dataframe tbody tr th:only-of-type {\n",
       "        vertical-align: middle;\n",
       "    }\n",
       "\n",
       "    .dataframe tbody tr th {\n",
       "        vertical-align: top;\n",
       "    }\n",
       "\n",
       "    .dataframe thead th {\n",
       "        text-align: right;\n",
       "    }\n",
       "</style>\n",
       "<table border=\"1\" class=\"dataframe\">\n",
       "  <thead>\n",
       "    <tr style=\"text-align: right;\">\n",
       "      <th></th>\n",
       "      <th>Unnamed: 0</th>\n",
       "      <th>Unnamed: 0.1</th>\n",
       "      <th>loan_status</th>\n",
       "      <th>Principal</th>\n",
       "      <th>terms</th>\n",
       "      <th>effective_date</th>\n",
       "      <th>due_date</th>\n",
       "      <th>age</th>\n",
       "      <th>education</th>\n",
       "      <th>Gender</th>\n",
       "    </tr>\n",
       "  </thead>\n",
       "  <tbody>\n",
       "    <tr>\n",
       "      <th>0</th>\n",
       "      <td>0</td>\n",
       "      <td>0</td>\n",
       "      <td>PAIDOFF</td>\n",
       "      <td>1000</td>\n",
       "      <td>30</td>\n",
       "      <td>9/8/2016</td>\n",
       "      <td>10/7/2016</td>\n",
       "      <td>45</td>\n",
       "      <td>High School or Below</td>\n",
       "      <td>male</td>\n",
       "    </tr>\n",
       "    <tr>\n",
       "      <th>1</th>\n",
       "      <td>2</td>\n",
       "      <td>2</td>\n",
       "      <td>PAIDOFF</td>\n",
       "      <td>1000</td>\n",
       "      <td>30</td>\n",
       "      <td>9/8/2016</td>\n",
       "      <td>10/7/2016</td>\n",
       "      <td>33</td>\n",
       "      <td>Bechalor</td>\n",
       "      <td>female</td>\n",
       "    </tr>\n",
       "    <tr>\n",
       "      <th>2</th>\n",
       "      <td>3</td>\n",
       "      <td>3</td>\n",
       "      <td>PAIDOFF</td>\n",
       "      <td>1000</td>\n",
       "      <td>15</td>\n",
       "      <td>9/8/2016</td>\n",
       "      <td>9/22/2016</td>\n",
       "      <td>27</td>\n",
       "      <td>college</td>\n",
       "      <td>male</td>\n",
       "    </tr>\n",
       "    <tr>\n",
       "      <th>3</th>\n",
       "      <td>4</td>\n",
       "      <td>4</td>\n",
       "      <td>PAIDOFF</td>\n",
       "      <td>1000</td>\n",
       "      <td>30</td>\n",
       "      <td>9/9/2016</td>\n",
       "      <td>10/8/2016</td>\n",
       "      <td>28</td>\n",
       "      <td>college</td>\n",
       "      <td>female</td>\n",
       "    </tr>\n",
       "    <tr>\n",
       "      <th>4</th>\n",
       "      <td>6</td>\n",
       "      <td>6</td>\n",
       "      <td>PAIDOFF</td>\n",
       "      <td>1000</td>\n",
       "      <td>30</td>\n",
       "      <td>9/9/2016</td>\n",
       "      <td>10/8/2016</td>\n",
       "      <td>29</td>\n",
       "      <td>college</td>\n",
       "      <td>male</td>\n",
       "    </tr>\n",
       "  </tbody>\n",
       "</table>\n",
       "</div>"
      ],
      "text/plain": [
       "   Unnamed: 0  Unnamed: 0.1 loan_status  Principal  terms effective_date  \\\n",
       "0           0             0     PAIDOFF       1000     30       9/8/2016   \n",
       "1           2             2     PAIDOFF       1000     30       9/8/2016   \n",
       "2           3             3     PAIDOFF       1000     15       9/8/2016   \n",
       "3           4             4     PAIDOFF       1000     30       9/9/2016   \n",
       "4           6             6     PAIDOFF       1000     30       9/9/2016   \n",
       "\n",
       "    due_date  age             education  Gender  \n",
       "0  10/7/2016   45  High School or Below    male  \n",
       "1  10/7/2016   33              Bechalor  female  \n",
       "2  9/22/2016   27               college    male  \n",
       "3  10/8/2016   28               college  female  \n",
       "4  10/8/2016   29               college    male  "
      ]
     },
     "execution_count": 221,
     "metadata": {},
     "output_type": "execute_result"
    }
   ],
   "source": [
    "df = pd.read_csv(\"data/loan_train.csv\")\n",
    "df.head()"
   ]
  },
  {
   "cell_type": "code",
   "execution_count": 222,
   "metadata": {},
   "outputs": [
    {
     "data": {
      "text/plain": [
       "PAIDOFF       260\n",
       "COLLECTION     86\n",
       "Name: loan_status, dtype: int64"
      ]
     },
     "execution_count": 222,
     "metadata": {},
     "output_type": "execute_result"
    }
   ],
   "source": [
    "df['loan_status'].value_counts()"
   ]
  },
  {
   "cell_type": "code",
   "execution_count": 223,
   "metadata": {},
   "outputs": [
    {
     "data": {
      "text/plain": [
       "Index(['loan_status', 'Principal', 'terms', 'effective_date', 'due_date',\n",
       "       'age', 'education', 'Gender'],\n",
       "      dtype='object')"
      ]
     },
     "execution_count": 223,
     "metadata": {},
     "output_type": "execute_result"
    }
   ],
   "source": [
    "df = df.drop(columns=['Unnamed: 0', 'Unnamed: 0.1'])\n",
    "df.columns"
   ]
  },
  {
   "cell_type": "markdown",
   "metadata": {},
   "source": [
    "## KNN:"
   ]
  },
  {
   "cell_type": "code",
   "execution_count": 310,
   "metadata": {
    "scrolled": true
   },
   "outputs": [],
   "source": [
    "# Clean the dataset\n",
    "X_knn = df[['Principal','terms','age']].values  #.astype(float)"
   ]
  },
  {
   "cell_type": "code",
   "execution_count": 311,
   "metadata": {},
   "outputs": [],
   "source": [
    "y_knn = df['loan_status'].values"
   ]
  },
  {
   "cell_type": "code",
   "execution_count": 312,
   "metadata": {
    "scrolled": true
   },
   "outputs": [],
   "source": [
    "# Preprocessing and normalization\n",
    "X_knn = preprocessing.StandardScaler().fit(X_knn).transform(X_knn.astype(float))"
   ]
  },
  {
   "cell_type": "code",
   "execution_count": 313,
   "metadata": {},
   "outputs": [
    {
     "name": "stdout",
     "output_type": "stream",
     "text": [
      "Train set: (276, 3) (276,)\n",
      "Test set: (70, 3) (70,)\n"
     ]
    }
   ],
   "source": [
    "from sklearn.model_selection import train_test_split\n",
    "X_knn_train, X_knn_test, y_knn_train, y_knn_test = train_test_split( X_knn, y_knn, test_size=0.2, random_state=4)\n",
    "print ('Train set:', X_knn_train.shape,  y_knn_train.shape)\n",
    "print ('Test set:', X_knn_test.shape,  y_knn_test.shape)"
   ]
  },
  {
   "cell_type": "code",
   "execution_count": 314,
   "metadata": {},
   "outputs": [],
   "source": [
    "from sklearn.neighbors import KNeighborsClassifier\n",
    "from sklearn import metrics\n",
    "\n",
    "k_vals = []\n",
    "test_accuracy = []\n",
    "\n",
    "for k in range(1,10):\n",
    "    knn = KNeighborsClassifier(n_neighbors = k).fit(X_knn_train,y_knn_train)\n",
    "    y_knn_hat = knn.predict(X_knn_test)\n",
    "    k_vals.append(k)\n",
    "    test_accuracy.append(metrics.accuracy_score(y_knn_test, y_knn_hat))"
   ]
  },
  {
   "cell_type": "code",
   "execution_count": 315,
   "metadata": {},
   "outputs": [
    {
     "data": {
      "text/plain": [
       "[<matplotlib.lines.Line2D at 0x126cd4d60>]"
      ]
     },
     "execution_count": 315,
     "metadata": {},
     "output_type": "execute_result"
    },
    {
     "data": {
      "image/png": "[encoded data removed]",
      "text/plain": [
       "<Figure size 432x288 with 1 Axes>"
      ]
     },
     "metadata": {
      "needs_background": "light"
     },
     "output_type": "display_data"
    }
   ],
   "source": [
    "plt.plot(k_vals, test_accuracy)"
   ]
  },
  {
   "cell_type": "code",
   "execution_count": 316,
   "metadata": {},
   "outputs": [],
   "source": [
    "knn_jaccard_score =  metrics.jaccard_score(y_knn_test, y_knn_hat, average='weighted')\n",
    "knn_f1_score = metrics.f1_score(y_knn_test, y_knn_hat, average='weighted')\n",
    "le_loan_status = preprocessing.LabelEncoder()\n",
    "le_loan_status.fit(df.loan_status.unique())\n",
    "y_knn_test = le_loan_status.transform(y_knn_test) \n",
    "y_knn_hat = le_loan_status.transform(y_knn_hat) \n",
    "knn_log_loss = metrics.f1_score(y_knn_test, y_knn_hat)"
   ]
  },
  {
   "cell_type": "markdown",
   "metadata": {},
   "source": [
    "## Decision Tree:"
   ]
  },
  {
   "cell_type": "markdown",
   "metadata": {},
   "source": [
    "##### Pre-processing:\n"
   ]
  },
  {
   "cell_type": "code",
   "execution_count": 303,
   "metadata": {},
   "outputs": [],
   "source": [
    "from sklearn.tree import DecisionTreeClassifier\n",
    "\n",
    "X_tree = df[[\"Principal\", \"terms\", \"effective_date\", \"due_date\", \"age\", \"education\", \"Gender\"]].values\n",
    "\n",
    "y_tree = df[\"loan_status\"]"
   ]
  },
  {
   "cell_type": "code",
   "execution_count": 304,
   "metadata": {},
   "outputs": [],
   "source": [
    "le_principal = preprocessing.LabelEncoder()\n",
    "le_principal.fit(df.Principal.unique())\n",
    "X_tree[:,0] = le_principal.transform(X_tree[:,0])\n",
    "\n",
    "le_terms = preprocessing.LabelEncoder()\n",
    "le_terms.fit(df.terms.unique())\n",
    "X_tree[:,1] = le_terms.transform(X_tree[:,1])\n",
    "\n",
    "le_effective_date = preprocessing.LabelEncoder()\n",
    "le_effective_date.fit(df.effective_date.unique())\n",
    "X_tree[:,2] = le_effective_date.transform(X_tree[:,2]) \n",
    "\n",
    "le_due_date = preprocessing.LabelEncoder()\n",
    "le_due_date.fit(df.due_date.unique())\n",
    "X_tree[:,3] = le_due_date.transform(X_tree[:,3]) \n",
    "\n",
    "le_education = preprocessing.LabelEncoder()\n",
    "le_education.fit(df.education.unique())\n",
    "X_tree[:,5] = le_education.transform(X_tree[:,5]) \n",
    "\n",
    "le_gender = preprocessing.LabelEncoder()\n",
    "le_gender.fit(df.Gender.unique())\n",
    "X_tree[:,6] = le_gender.transform(X_tree[:,6]) "
   ]
  },
  {
   "cell_type": "code",
   "execution_count": 305,
   "metadata": {},
   "outputs": [
    {
     "name": "stdout",
     "output_type": "stream",
     "text": [
      "Train set: (276, 7) (276,)\n",
      "Test set: (70, 7) (70,)\n"
     ]
    }
   ],
   "source": [
    "from sklearn.model_selection import train_test_split\n",
    "X_tree_train, X_tree_test, y_tree_train, y_tree_test = train_test_split(X_tree, y_tree, test_size=0.2, random_state=4)\n",
    "print ('Train set:', X_tree_train.shape,  y_tree_train.shape)\n",
    "print ('Test set:', X_tree_test.shape,  y_tree_test.shape)"
   ]
  },
  {
   "cell_type": "code",
   "execution_count": 306,
   "metadata": {},
   "outputs": [],
   "source": [
    "tree = DecisionTreeClassifier(criterion=\"entropy\", max_depth = 4)\n",
    "tree.fit(X_tree_train,y_tree_train)\n",
    "y_tree_hat = tree.predict(X_tree_test)"
   ]
  },
  {
   "cell_type": "code",
   "execution_count": 307,
   "metadata": {},
   "outputs": [],
   "source": [
    "from sklearn import metrics\n",
    "import matplotlib.pyplot as plt\n",
    "tree_jaccard_score = metrics.jaccard_score(y_tree_test, y_tree_hat, average='weighted')\n",
    "tree_f1_score = metrics.f1_score(y_tree_test, y_tree_hat, average='weighted')\n",
    "le_loan_status = preprocessing.LabelEncoder()\n",
    "le_loan_status.fit(df.loan_status.unique())\n",
    "y_tree_test = le_loan_status.transform(y_tree_test) \n",
    "y_tree_hat = le_loan_status.transform(y_tree_hat) \n",
    "tree_log_loss = metrics.log_loss(y_tree_test, y_tree_hat)"
   ]
  },
  {
   "cell_type": "markdown",
   "metadata": {},
   "source": [
    "## Support Vector Machine"
   ]
  },
  {
   "cell_type": "markdown",
   "metadata": {},
   "source": [
    "###### Pre-processing\n"
   ]
  },
  {
   "cell_type": "code",
   "execution_count": 279,
   "metadata": {},
   "outputs": [
    {
     "data": {
      "text/plain": [
       "loan_status       object\n",
       "Principal          int64\n",
       "terms              int64\n",
       "effective_date    object\n",
       "due_date          object\n",
       "age                int64\n",
       "education         object\n",
       "Gender            object\n",
       "dtype: object"
      ]
     },
     "execution_count": 279,
     "metadata": {},
     "output_type": "execute_result"
    }
   ],
   "source": [
    "df.dtypes"
   ]
  },
  {
   "cell_type": "code",
   "execution_count": 280,
   "metadata": {},
   "outputs": [],
   "source": [
    "X_svm = np.asarray(df[[\"Principal\", \"terms\", \"age\"]])\n",
    "y_svm = df[[\"loan_status\"]]\n",
    "\n",
    "le_loan_status = preprocessing.LabelEncoder()\n",
    "le_loan_status.fit(df.loan_status.unique())\n",
    "y_svm = le_loan_status.transform(y_svm) "
   ]
  },
  {
   "cell_type": "markdown",
   "metadata": {},
   "source": [
    "###### Train/Test"
   ]
  },
  {
   "cell_type": "code",
   "execution_count": 281,
   "metadata": {},
   "outputs": [
    {
     "name": "stdout",
     "output_type": "stream",
     "text": [
      "Train set: (276, 3) (276,)\n",
      "Test set: (70, 3) (70,)\n"
     ]
    }
   ],
   "source": [
    "X_svm_train, X_svm_test, y_svm_train, y_svm_test = train_test_split( X_svm, y_svm, test_size=0.2, random_state=4)\n",
    "print ('Train set:', X_svm_train.shape,  y_svm_train.shape)\n",
    "print ('Test set:', X_svm_test.shape,  y_svm_test.shape)\n"
   ]
  },
  {
   "cell_type": "code",
   "execution_count": 282,
   "metadata": {},
   "outputs": [],
   "source": [
    "from sklearn import svm\n",
    "loan_svm = svm.SVC(kernel='rbf')\n",
    "loan_svm.fit(X_svm_train, y_svm_train)\n",
    "y_svm_hat = loan_svm.predict(X_svm_test)"
   ]
  },
  {
   "cell_type": "code",
   "execution_count": 284,
   "metadata": {},
   "outputs": [],
   "source": [
    "svm_jaccard_score = metrics.jaccard_score(y_svm_test, y_svm_hat)\n",
    "svm_f1_score = metrics.f1_score(y_svm_test, y_svm_hat, average='weighted')\n",
    "svm_log_loss = metrics.log_loss(y_svm_test, y_svm_hat)"
   ]
  },
  {
   "cell_type": "markdown",
   "metadata": {},
   "source": [
    "## Logistic Regression"
   ]
  },
  {
   "cell_type": "code",
   "execution_count": 294,
   "metadata": {},
   "outputs": [
    {
     "name": "stderr",
     "output_type": "stream",
     "text": [
      "/Users/taddbindas/.local/share/virtualenvs/Machine-Learning-With-Python-cHzp48gl/lib/python3.8/site-packages/sklearn/preprocessing/_label.py:268: DataConversionWarning: A column-vector y was passed when a 1d array was expected. Please change the shape of y to (n_samples, ), for example using ravel().\n",
      "  y = column_or_1d(y, warn=True)\n"
     ]
    }
   ],
   "source": [
    "X_lr = np.asarray(df[[\"Principal\", \"terms\", \"age\"]])\n",
    "y_lr = df[[\"loan_status\"]]\n",
    "\n",
    "le_loan_status = preprocessing.LabelEncoder()\n",
    "le_loan_status.fit(df.loan_status.unique())\n",
    "y_lr = le_loan_status.transform(y_lr) "
   ]
  },
  {
   "cell_type": "code",
   "execution_count": 295,
   "metadata": {},
   "outputs": [
    {
     "name": "stdout",
     "output_type": "stream",
     "text": [
      "Train set: (276, 3) (276,)\n",
      "Test set: (70, 3) (70,)\n"
     ]
    }
   ],
   "source": [
    "from sklearn.model_selection import train_test_split\n",
    "X_lr_train, X_lr_test, y_lr_train, y_lr_test = train_test_split( X_lr, y_lr, test_size=0.2, random_state=4)\n",
    "print ('Train set:', X_lr_train.shape,  y_lr_train.shape)\n",
    "print ('Test set:', X_lr_test.shape,  y_lr_test.shape)"
   ]
  },
  {
   "cell_type": "code",
   "execution_count": 296,
   "metadata": {},
   "outputs": [],
   "source": [
    "from sklearn.linear_model import LogisticRegression\n",
    "from sklearn.metrics import confusion_matrix\n",
    "LR = LogisticRegression(C=0.01, solver='liblinear').fit(X_lr_train,y_lr_train)\n",
    "y_lr_hat = LR.predict(X_lr_test)\n",
    "y_lr_hat_prob = LR.predict_proba(X_lr_test)"
   ]
  },
  {
   "cell_type": "code",
   "execution_count": 297,
   "metadata": {},
   "outputs": [],
   "source": [
    "lr_jaccard_score = metrics.jaccard_score(y_lr_test, y_lr_hat)\n",
    "lr_f1_score = metrics.f1_score(y_lr_test, y_lr_hat, average='weighted')\n",
    "lr_log_loss = metrics.log_loss(y_lr_test, y_lr_hat_prob)"
   ]
  },
  {
   "cell_type": "markdown",
   "metadata": {},
   "source": [
    "# Conclusion\n",
    "\n",
    "###### Below are the metrics for KNN:"
   ]
  },
  {
   "cell_type": "code",
   "execution_count": 317,
   "metadata": {},
   "outputs": [
    {
     "name": "stdout",
     "output_type": "stream",
     "text": [
      "KNN Jaccard Score:  0.5836734693877551\n",
      "KNN F1 Score:  0.6697892271662764\n",
      "KNN Log Loss:  0.8524590163934428\n"
     ]
    }
   ],
   "source": [
    "print(\"KNN Jaccard Score: \", knn_jaccard_score)\n",
    "print(\"KNN F1 Score: \", knn_f1_score)\n",
    "print(\"KNN Log Loss: \", knn_log_loss)"
   ]
  },
  {
   "cell_type": "markdown",
   "metadata": {},
   "source": [
    "###### Below are the metrics for Decision Trees:"
   ]
  },
  {
   "cell_type": "code",
   "execution_count": 308,
   "metadata": {},
   "outputs": [
    {
     "name": "stdout",
     "output_type": "stream",
     "text": [
      "Decision Tree Jaccard Score:  0.5192307692307693\n",
      "Decision Tree F1 Score:  0.6598639455782312\n",
      "Decision Tree Log Loss:  12.335391512100985\n"
     ]
    }
   ],
   "source": [
    "print(\"Decision Tree Jaccard Score: \", tree_jaccard_score)\n",
    "print(\"Decision Tree F1 Score: \", tree_f1_score)\n",
    "print(\"Decision Tree Log Loss: \", tree_log_loss)"
   ]
  },
  {
   "cell_type": "markdown",
   "metadata": {},
   "source": [
    "###### Below are the metrics for SVM:"
   ]
  },
  {
   "cell_type": "code",
   "execution_count": 300,
   "metadata": {},
   "outputs": [
    {
     "name": "stdout",
     "output_type": "stream",
     "text": [
      "SVM Jaccard Score:  0.7857142857142857\n",
      "SVM F1 Score:  0.6914285714285714\n",
      "SVM Log Loss:  7.401337712644475\n"
     ]
    }
   ],
   "source": [
    "print(\"SVM Jaccard Score: \", svm_jaccard_score)\n",
    "print(\"SVM F1 Score: \", svm_f1_score)\n",
    "print(\"SVM Log Loss: \", svm_log_loss)"
   ]
  },
  {
   "cell_type": "markdown",
   "metadata": {},
   "source": [
    "###### Below are the metrics for Logistic Regression:"
   ]
  },
  {
   "cell_type": "code",
   "execution_count": 301,
   "metadata": {},
   "outputs": [
    {
     "name": "stdout",
     "output_type": "stream",
     "text": [
      "LR Jaccard Score:  0.7857142857142857\n",
      "LR F1 Score:  0.6914285714285714\n",
      "LR Log Loss:  0.5568770466020386\n"
     ]
    }
   ],
   "source": [
    "print(\"LR Jaccard Score: \", lr_jaccard_score)\n",
    "print(\"LR F1 Score: \", lr_f1_score)\n",
    "print(\"LR Log Loss: \", lr_log_loss)"
   ]
  },
  {
   "cell_type": "markdown",
   "metadata": {},
   "source": [
    "- The best Jaccard Scores belong to SVM and Logistic Regression\n",
    "- The best F1 Scores belong to KNN\n",
    "- The best Log loss belongs to Logistic Regression"
   ]
  }
 ],
 "metadata": {
  "kernelspec": {
   "display_name": "Python 3",
   "language": "python",
   "name": "python3"
  },
  "language_info": {
   "codemirror_mode": {
    "name": "ipython",
    "version": 3
   },
   "file_extension": ".py",
   "mimetype": "text/x-python",
   "name": "python",
   "nbconvert_exporter": "python",
   "pygments_lexer": "ipython3",
   "version": "3.8.2"
  }
 },
 "nbformat": 4,
 "nbformat_minor": 4
}
